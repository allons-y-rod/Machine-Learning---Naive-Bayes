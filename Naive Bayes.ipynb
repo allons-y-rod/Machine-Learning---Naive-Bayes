{
 "cells": [
  {
   "cell_type": "code",
   "execution_count": 9,
   "metadata": {},
   "outputs": [],
   "source": [
    "import pandas as pd\n",
    "import numpy as np\n",
    "\n",
    "\n",
    "from sklearn.model_selection import train_test_split\n",
    "from sklearn.naive_bayes import GaussianNB\n",
    "from sklearn.preprocessing import LabelEncoder"
   ]
  },
  {
   "cell_type": "code",
   "execution_count": 10,
   "metadata": {},
   "outputs": [],
   "source": [
    "dados = pd.read_csv('E:/Mestrado Matérias/2 MÓDULO/Machine Learning/LISTA 2/Q6.csv')"
   ]
  },
  {
   "cell_type": "code",
   "execution_count": 11,
   "metadata": {},
   "outputs": [
    {
     "data": {
      "text/html": [
       "<div>\n",
       "<style scoped>\n",
       "    .dataframe tbody tr th:only-of-type {\n",
       "        vertical-align: middle;\n",
       "    }\n",
       "\n",
       "    .dataframe tbody tr th {\n",
       "        vertical-align: top;\n",
       "    }\n",
       "\n",
       "    .dataframe thead th {\n",
       "        text-align: right;\n",
       "    }\n",
       "</style>\n",
       "<table border=\"1\" class=\"dataframe\">\n",
       "  <thead>\n",
       "    <tr style=\"text-align: right;\">\n",
       "      <th></th>\n",
       "      <th>Dia</th>\n",
       "      <th>Tempo</th>\n",
       "      <th>Temperatura</th>\n",
       "      <th>Umidade</th>\n",
       "      <th>Vento</th>\n",
       "      <th>Joga</th>\n",
       "    </tr>\n",
       "  </thead>\n",
       "  <tbody>\n",
       "    <tr>\n",
       "      <th>0</th>\n",
       "      <td>D1</td>\n",
       "      <td>Ensolarado</td>\n",
       "      <td>Quente</td>\n",
       "      <td>Alta</td>\n",
       "      <td>Fraco</td>\n",
       "      <td>Não</td>\n",
       "    </tr>\n",
       "    <tr>\n",
       "      <th>1</th>\n",
       "      <td>D2</td>\n",
       "      <td>Ensolarado</td>\n",
       "      <td>Quente</td>\n",
       "      <td>Alta</td>\n",
       "      <td>Forte</td>\n",
       "      <td>Não</td>\n",
       "    </tr>\n",
       "    <tr>\n",
       "      <th>2</th>\n",
       "      <td>D3</td>\n",
       "      <td>Nublado</td>\n",
       "      <td>Quente</td>\n",
       "      <td>Alta</td>\n",
       "      <td>Fraco</td>\n",
       "      <td>Sim</td>\n",
       "    </tr>\n",
       "    <tr>\n",
       "      <th>3</th>\n",
       "      <td>D4</td>\n",
       "      <td>Chuvoso</td>\n",
       "      <td>Média</td>\n",
       "      <td>Alta</td>\n",
       "      <td>Fraco</td>\n",
       "      <td>Sim</td>\n",
       "    </tr>\n",
       "    <tr>\n",
       "      <th>4</th>\n",
       "      <td>D5</td>\n",
       "      <td>Chuvoso</td>\n",
       "      <td>Fria</td>\n",
       "      <td>Normal</td>\n",
       "      <td>Fraco</td>\n",
       "      <td>Sim</td>\n",
       "    </tr>\n",
       "    <tr>\n",
       "      <th>5</th>\n",
       "      <td>D6</td>\n",
       "      <td>Chuvoso</td>\n",
       "      <td>Fria</td>\n",
       "      <td>Normal</td>\n",
       "      <td>Forte</td>\n",
       "      <td>Não</td>\n",
       "    </tr>\n",
       "    <tr>\n",
       "      <th>6</th>\n",
       "      <td>D7</td>\n",
       "      <td>Nublado</td>\n",
       "      <td>Fria</td>\n",
       "      <td>Normal</td>\n",
       "      <td>Forte</td>\n",
       "      <td>Sim</td>\n",
       "    </tr>\n",
       "    <tr>\n",
       "      <th>7</th>\n",
       "      <td>D8</td>\n",
       "      <td>Ensolarado</td>\n",
       "      <td>Média</td>\n",
       "      <td>Alta</td>\n",
       "      <td>Fraco</td>\n",
       "      <td>Não</td>\n",
       "    </tr>\n",
       "    <tr>\n",
       "      <th>8</th>\n",
       "      <td>D9</td>\n",
       "      <td>Ensolarado</td>\n",
       "      <td>Fria</td>\n",
       "      <td>Normal</td>\n",
       "      <td>Fraco</td>\n",
       "      <td>Sim</td>\n",
       "    </tr>\n",
       "    <tr>\n",
       "      <th>9</th>\n",
       "      <td>D10</td>\n",
       "      <td>Chuvoso</td>\n",
       "      <td>Média</td>\n",
       "      <td>Normal</td>\n",
       "      <td>Fraco</td>\n",
       "      <td>Sim</td>\n",
       "    </tr>\n",
       "    <tr>\n",
       "      <th>10</th>\n",
       "      <td>D11</td>\n",
       "      <td>Ensolarado</td>\n",
       "      <td>Média</td>\n",
       "      <td>Normal</td>\n",
       "      <td>Forte</td>\n",
       "      <td>Sim</td>\n",
       "    </tr>\n",
       "    <tr>\n",
       "      <th>11</th>\n",
       "      <td>D12</td>\n",
       "      <td>Nublado</td>\n",
       "      <td>Média</td>\n",
       "      <td>Alta</td>\n",
       "      <td>Forte</td>\n",
       "      <td>Sim</td>\n",
       "    </tr>\n",
       "    <tr>\n",
       "      <th>12</th>\n",
       "      <td>D13</td>\n",
       "      <td>Nublado</td>\n",
       "      <td>Quente</td>\n",
       "      <td>Normal</td>\n",
       "      <td>Fraco</td>\n",
       "      <td>Sim</td>\n",
       "    </tr>\n",
       "    <tr>\n",
       "      <th>13</th>\n",
       "      <td>D14</td>\n",
       "      <td>Chuvoso</td>\n",
       "      <td>Média</td>\n",
       "      <td>Alta</td>\n",
       "      <td>Forte</td>\n",
       "      <td>Não</td>\n",
       "    </tr>\n",
       "  </tbody>\n",
       "</table>\n",
       "</div>"
      ],
      "text/plain": [
       "    Dia       Tempo Temperatura Umidade  Vento Joga\n",
       "0    D1  Ensolarado      Quente    Alta  Fraco  Não\n",
       "1    D2  Ensolarado      Quente    Alta  Forte  Não\n",
       "2    D3     Nublado      Quente    Alta  Fraco  Sim\n",
       "3    D4     Chuvoso       Média    Alta  Fraco  Sim\n",
       "4    D5     Chuvoso        Fria  Normal  Fraco  Sim\n",
       "5    D6     Chuvoso        Fria  Normal  Forte  Não\n",
       "6    D7     Nublado        Fria  Normal  Forte  Sim\n",
       "7    D8  Ensolarado       Média    Alta  Fraco  Não\n",
       "8    D9  Ensolarado        Fria  Normal  Fraco  Sim\n",
       "9   D10     Chuvoso       Média  Normal  Fraco  Sim\n",
       "10  D11  Ensolarado       Média  Normal  Forte  Sim\n",
       "11  D12     Nublado       Média    Alta  Forte  Sim\n",
       "12  D13     Nublado      Quente  Normal  Fraco  Sim\n",
       "13  D14     Chuvoso       Média    Alta  Forte  Não"
      ]
     },
     "execution_count": 11,
     "metadata": {},
     "output_type": "execute_result"
    }
   ],
   "source": [
    "dados"
   ]
  },
  {
   "cell_type": "markdown",
   "metadata": {},
   "source": [
    "Separandos os dados "
   ]
  },
  {
   "cell_type": "code",
   "execution_count": 12,
   "metadata": {},
   "outputs": [
    {
     "data": {
      "text/plain": [
       "array([['Ensolarado', 'Quente', 'Alta', 'Fraco'],\n",
       "       ['Ensolarado', 'Quente', 'Alta', 'Forte'],\n",
       "       ['Nublado', 'Quente', 'Alta', 'Fraco'],\n",
       "       ['Chuvoso', 'Média', 'Alta', 'Fraco'],\n",
       "       ['Chuvoso', 'Fria', 'Normal', 'Fraco'],\n",
       "       ['Chuvoso', 'Fria', 'Normal', 'Forte'],\n",
       "       ['Nublado', 'Fria', 'Normal', 'Forte'],\n",
       "       ['Ensolarado', 'Média', 'Alta', 'Fraco'],\n",
       "       ['Ensolarado', 'Fria', 'Normal', 'Fraco'],\n",
       "       ['Chuvoso', 'Média', 'Normal', 'Fraco'],\n",
       "       ['Ensolarado', 'Média', 'Normal', 'Forte'],\n",
       "       ['Nublado', 'Média', 'Alta', 'Forte'],\n",
       "       ['Nublado', 'Quente', 'Normal', 'Fraco'],\n",
       "       ['Chuvoso', 'Média', 'Alta', 'Forte']], dtype=object)"
      ]
     },
     "execution_count": 12,
     "metadata": {},
     "output_type": "execute_result"
    }
   ],
   "source": [
    "X_dados = dados.iloc[:,1:5].values\n",
    "\n",
    "X_dados"
   ]
  },
  {
   "cell_type": "code",
   "execution_count": 13,
   "metadata": {},
   "outputs": [
    {
     "data": {
      "text/plain": [
       "array(['Não', 'Não', 'Sim', 'Sim', 'Sim', 'Não', 'Sim', 'Não', 'Sim',\n",
       "       'Sim', 'Sim', 'Sim', 'Sim', 'Não'], dtype=object)"
      ]
     },
     "execution_count": 13,
     "metadata": {},
     "output_type": "execute_result"
    }
   ],
   "source": [
    "y_dados = dados.iloc[:,-1].values\n",
    "\n",
    "y_dados"
   ]
  },
  {
   "cell_type": "markdown",
   "metadata": {},
   "source": [
    "Transformando os dados categóricos em numéricos"
   ]
  },
  {
   "cell_type": "code",
   "execution_count": 14,
   "metadata": {},
   "outputs": [],
   "source": [
    "\n",
    "label_encoder_tempo = LabelEncoder()\n",
    "label_encoder_temperatura = LabelEncoder()\n",
    "label_encoder_umidade = LabelEncoder()\n",
    "label_encoder_vento = LabelEncoder()"
   ]
  },
  {
   "cell_type": "code",
   "execution_count": 15,
   "metadata": {},
   "outputs": [
    {
     "data": {
      "text/plain": [
       "array([[1, 2, 0, 1],\n",
       "       [1, 2, 0, 0],\n",
       "       [2, 2, 0, 1],\n",
       "       [0, 1, 0, 1],\n",
       "       [0, 0, 1, 1],\n",
       "       [0, 0, 1, 0],\n",
       "       [2, 0, 1, 0],\n",
       "       [1, 1, 0, 1],\n",
       "       [1, 0, 1, 1],\n",
       "       [0, 1, 1, 1],\n",
       "       [1, 1, 1, 0],\n",
       "       [2, 1, 0, 0],\n",
       "       [2, 2, 1, 1],\n",
       "       [0, 1, 0, 0]], dtype=object)"
      ]
     },
     "execution_count": 15,
     "metadata": {},
     "output_type": "execute_result"
    }
   ],
   "source": [
    "\n",
    "X_dados[:,0] = label_encoder_tempo.fit_transform(X_dados[:,0])\n",
    "X_dados[:,1] = label_encoder_temperatura.fit_transform(X_dados[:,1])\n",
    "X_dados[:,2] = label_encoder_umidade.fit_transform(X_dados[:,2])\n",
    "X_dados[:,3] = label_encoder_vento.fit_transform(X_dados[:,3])\n",
    "\n",
    "X_dados"
   ]
  },
  {
   "cell_type": "code",
   "execution_count": 16,
   "metadata": {},
   "outputs": [],
   "source": [
    "X_train, X_test, y_train, y_test = train_test_split(X_dados, y_dados, test_size = 0.3, random_state=0)"
   ]
  },
  {
   "cell_type": "code",
   "execution_count": 17,
   "metadata": {},
   "outputs": [
    {
     "data": {
      "text/plain": [
       "0.8571428571428571"
      ]
     },
     "execution_count": 17,
     "metadata": {},
     "output_type": "execute_result"
    }
   ],
   "source": [
    "naive_dados = GaussianNB() #Distribuição normal\n",
    "#Treinando o algoritmo\n",
    "\n",
    "naive_dados.fit(X_dados,y_dados)\n",
    "\n",
    "#Acurácia do modelos\n",
    "naive_dados.score(X_dados,y_dados)"
   ]
  },
  {
   "cell_type": "markdown",
   "metadata": {},
   "source": [
    "<h5>Previsão de um novo dado\n",
    "    "
   ]
  },
  {
   "cell_type": "code",
   "execution_count": 18,
   "metadata": {},
   "outputs": [],
   "source": [
    "#chuvoso(0), quente(2), alta(0) e forte(0)\n",
    "\n",
    "previsao = naive_dados.predict([[0,2,0,0]])\n"
   ]
  },
  {
   "cell_type": "code",
   "execution_count": 19,
   "metadata": {},
   "outputs": [
    {
     "data": {
      "text/plain": [
       "array(['Não'], dtype='<U3')"
      ]
     },
     "execution_count": 19,
     "metadata": {},
     "output_type": "execute_result"
    }
   ],
   "source": [
    "previsao"
   ]
  },
  {
   "cell_type": "code",
   "execution_count": 20,
   "metadata": {
    "scrolled": true
   },
   "outputs": [
    {
     "data": {
      "text/plain": [
       "array(['Não', 'Sim'], dtype='<U3')"
      ]
     },
     "execution_count": 20,
     "metadata": {},
     "output_type": "execute_result"
    }
   ],
   "source": [
    "#Classes\n",
    "\n",
    "naive_dados.classes_"
   ]
  },
  {
   "cell_type": "code",
   "execution_count": 21,
   "metadata": {},
   "outputs": [
    {
     "data": {
      "text/plain": [
       "array([5., 9.])"
      ]
     },
     "execution_count": 21,
     "metadata": {},
     "output_type": "execute_result"
    }
   ],
   "source": [
    "#Atributos por classe\n",
    "\n",
    "naive_dados.class_count_"
   ]
  },
  {
   "cell_type": "code",
   "execution_count": 22,
   "metadata": {},
   "outputs": [
    {
     "data": {
      "text/plain": [
       "array([0.35714286, 0.64285714])"
      ]
     },
     "execution_count": 22,
     "metadata": {},
     "output_type": "execute_result"
    }
   ],
   "source": [
    "#Propriedade a priori\n",
    "\n",
    "naive_dados.class_prior_"
   ]
  },
  {
   "cell_type": "code",
   "execution_count": null,
   "metadata": {},
   "outputs": [],
   "source": []
  }
 ],
 "metadata": {
  "kernelspec": {
   "display_name": "Python 3",
   "language": "python",
   "name": "python3"
  },
  "language_info": {
   "codemirror_mode": {
    "name": "ipython",
    "version": 3
   },
   "file_extension": ".py",
   "mimetype": "text/x-python",
   "name": "python",
   "nbconvert_exporter": "python",
   "pygments_lexer": "ipython3",
   "version": "3.8.5"
  }
 },
 "nbformat": 4,
 "nbformat_minor": 4
}
